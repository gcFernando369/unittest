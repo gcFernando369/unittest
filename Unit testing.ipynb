{
 "cells": [
  {
   "cell_type": "markdown",
   "metadata": {},
   "source": [
    "Fernando González Colín\n",
    "\n",
    "Ciudad de México, México\n",
    "\n",
    "gc.fernando.96@gmail.com\n",
    "\n",
    "April, 2019"
   ]
  },
  {
   "cell_type": "code",
   "execution_count": 20,
   "metadata": {},
   "outputs": [],
   "source": [
    "import unittest\n",
    "import numpy as np"
   ]
  },
  {
   "cell_type": "code",
   "execution_count": 33,
   "metadata": {},
   "outputs": [],
   "source": [
    "# Simple sample functions\n",
    "def factorial(n):\n",
    "    \"\"\"\n",
    "    what is the factorial of n?\n",
    "    \"\"\"\n",
    "    res=1\n",
    "    for x in range(n,0,-1): res*=x\n",
    "    return res\n",
    "\n",
    "def isPowerOf(n,x):\n",
    "    \"\"\"\n",
    "    is n power of x?\n",
    "    \"\"\"\n",
    "    res=(np.log(n)/np.log(x))%1\n",
    "    return res==0\n",
    "\n",
    "def sumZerosWith3Items(sample):\n",
    "    \"\"\"\n",
    "    three numbers from sample that added equal to zero\n",
    "    \"\"\"\n",
    "    n=[]\n",
    "    return n"
   ]
  },
  {
   "cell_type": "code",
   "execution_count": 34,
   "metadata": {},
   "outputs": [
    {
     "name": "stdout",
     "output_type": "stream",
     "text": [
      "True\n",
      "True\n",
      "True\n",
      "True\n",
      "True\n",
      "True\n",
      "True\n"
     ]
    }
   ],
   "source": [
    "print(isPowerOf(4,2)==True)\n",
    "print(isPowerOf(5,2)==False)\n",
    "print(isPowerOf(9,3)==True)\n",
    "print(isPowerOf(8,2)==True)\n",
    "print(isPowerOf(16,4)==True)\n",
    "print(isPowerOf(4,4)==True)\n",
    "print(isPowerOf(3,4)==False)"
   ]
  },
  {
   "cell_type": "code",
   "execution_count": 11,
   "metadata": {},
   "outputs": [],
   "source": [
    "for x in range(0,0,-1): print(x)"
   ]
  },
  {
   "cell_type": "code",
   "execution_count": null,
   "metadata": {},
   "outputs": [],
   "source": []
  }
 ],
 "metadata": {
  "kernelspec": {
   "display_name": "Python 3",
   "language": "python",
   "name": "python3"
  },
  "language_info": {
   "codemirror_mode": {
    "name": "ipython",
    "version": 3
   },
   "file_extension": ".py",
   "mimetype": "text/x-python",
   "name": "python",
   "nbconvert_exporter": "python",
   "pygments_lexer": "ipython3",
   "version": "3.6.7"
  }
 },
 "nbformat": 4,
 "nbformat_minor": 2
}
