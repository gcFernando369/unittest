{
 "cells": [
  {
   "cell_type": "markdown",
   "metadata": {},
   "source": [
    "Fernando González Colín\n",
    "\n",
    "Ciudad de México, México\n",
    "\n",
    "gc.fernando.96@gmail.com\n",
    "\n",
    "April, 2019\n",
    "\n",
    "Examples taken from https://docs.python.org/3/library/unittest.html using the functions above\n",
    "\n",
    "Executed on Windows 10"
   ]
  },
  {
   "cell_type": "code",
   "execution_count": 1,
   "metadata": {},
   "outputs": [],
   "source": [
    "import os, sys, subprocess"
   ]
  },
  {
   "cell_type": "code",
   "execution_count": 2,
   "metadata": {},
   "outputs": [
    {
     "name": "stderr",
     "output_type": "stream",
     "text": [
      "test_addDigitsUntilOne (__main__.TestFunctions) ... ok\n",
      "test_factorial (__main__.TestFunctions) ... ok\n",
      "test_isASimpleProgression (__main__.TestFunctions) ... ok\n",
      "test_isPowerOf (__main__.TestFunctions) ... ok\n",
      "test_traveledDistance (__main__.TestFunctions) ... ok\n",
      "\n",
      "----------------------------------------------------------------------\n",
      "Ran 5 tests in 0.000s\n",
      "\n",
      "OK\n"
     ]
    }
   ],
   "source": [
    "!python testFunctions.py -v"
   ]
  },
  {
   "cell_type": "code",
   "execution_count": null,
   "metadata": {},
   "outputs": [],
   "source": []
  }
 ],
 "metadata": {
  "kernelspec": {
   "display_name": "Python 3",
   "language": "python",
   "name": "python3"
  },
  "language_info": {
   "codemirror_mode": {
    "name": "ipython",
    "version": 3
   },
   "file_extension": ".py",
   "mimetype": "text/x-python",
   "name": "python",
   "nbconvert_exporter": "python",
   "pygments_lexer": "ipython3",
   "version": "3.6.7"
  }
 },
 "nbformat": 4,
 "nbformat_minor": 2
}
